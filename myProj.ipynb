{
 "cells": [
  {
   "cell_type": "code",
   "execution_count": 1,
   "metadata": {},
   "outputs": [
    {
     "name": "stdout",
     "output_type": "stream",
     "text": [
      "asfSDGih\n",
      "SDkghsdgkjhsdgsdh\n",
      "shlomi\n",
      "nadav\n"
     ]
    }
   ],
   "source": [
    "print('asfSDGih')\n",
    "print('SDkghsdgkjhsdgsdh')\n",
    "print('shlomi')\n",
    "print('nadav')"
   ]
  },
  {
   "cell_type": "code",
   "execution_count": null,
   "metadata": {},
   "outputs": [],
   "source": []
  }
 ],
 "metadata": {
  "kernelspec": {
   "display_name": "base",
   "language": "python",
   "name": "python3"
  },
  "language_info": {
   "codemirror_mode": {
    "name": "ipython",
    "version": 3
   },
   "file_extension": ".py",
   "mimetype": "text/x-python",
   "name": "python",
   "nbconvert_exporter": "python",
   "pygments_lexer": "ipython3",
   "version": "3.9.13"
  },
  "orig_nbformat": 4,
  "vscode": {
   "interpreter": {
    "hash": "38eb49f7db764cd4cf0aa831b280517f87cdf882999cdc163434f9e315b5aa41"
   }
  }
 },
 "nbformat": 4,
 "nbformat_minor": 2
}
